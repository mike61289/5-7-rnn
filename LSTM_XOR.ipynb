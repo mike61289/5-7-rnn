{
 "cells": [
  {
   "cell_type": "code",
   "execution_count": 1,
   "metadata": {
    "id": "fR5Uz69JFiiY"
   },
   "outputs": [],
   "source": [
    "#https://vitez.me/lstm-xor\n",
    "\n",
    "from tensorflow.keras import optimizers\n",
    "from tensorflow.keras.layers import Dense, Input, LSTM\n",
    "from tensorflow.keras.models import Sequential\n",
    "import numpy as np\n",
    "import random"
   ]
  },
  {
   "cell_type": "code",
   "execution_count": 2,
   "metadata": {
    "id": "9FJc0-wyFlc0"
   },
   "outputs": [],
   "source": [
    "SEQ_LEN = 50\n",
    "COUNT = 100000"
   ]
  },
  {
   "cell_type": "code",
   "execution_count": 3,
   "metadata": {
    "id": "6GnaWI_HFu8T"
   },
   "outputs": [],
   "source": [
    "bin_pair = lambda x: [x, not(x)]\n",
    "training = np.array([[bin_pair(random.choice([0, 1])) for _ in range(SEQ_LEN)] for _ in range(COUNT)])\n",
    "target = np.array([[bin_pair(x) for x in np.cumsum(example[:,0]) % 2] for example in training])"
   ]
  },
  {
   "cell_type": "code",
   "execution_count": 4,
   "metadata": {
    "colab": {
     "base_uri": "https://localhost:8080/"
    },
    "id": "URp68yQOFxv6",
    "outputId": "f5fc652e-054b-46fb-e97d-034bf744fead"
   },
   "outputs": [
    {
     "name": "stdout",
     "output_type": "stream",
     "text": [
      "shape check: (100000, 50, 2) = (100000, 50, 2)\n"
     ]
    }
   ],
   "source": [
    "print('shape check:', training.shape, '=', target.shape)"
   ]
  },
  {
   "cell_type": "code",
   "execution_count": 5,
   "metadata": {
    "id": "5bQycZQiF6A6"
   },
   "outputs": [],
   "source": [
    "model = Sequential()\n",
    "model.add(Input(shape=(SEQ_LEN, 2), dtype='float32'))\n",
    "model.add(LSTM(1, return_sequences=True))\n",
    "model.add(Dense(2, activation='softmax'))"
   ]
  },
  {
   "cell_type": "code",
   "execution_count": 6,
   "metadata": {
    "colab": {
     "base_uri": "https://localhost:8080/"
    },
    "id": "tC7UnXBYF-L0",
    "outputId": "ee335e0d-aea9-43bf-bbc2-baf96b52caeb"
   },
   "outputs": [
    {
     "name": "stdout",
     "output_type": "stream",
     "text": [
      "Epoch 1/10\n",
      "782/782 [==============================] - 16s 18ms/step - loss: 0.6948 - accuracy: 0.4979\n",
      "Epoch 2/10\n",
      "782/782 [==============================] - 14s 18ms/step - loss: 0.6931 - accuracy: 0.5053\n",
      "Epoch 3/10\n",
      "782/782 [==============================] - 14s 18ms/step - loss: 0.6931 - accuracy: 0.5067\n",
      "Epoch 4/10\n",
      "782/782 [==============================] - 14s 18ms/step - loss: 0.6931 - accuracy: 0.5080\n",
      "Epoch 5/10\n",
      "782/782 [==============================] - 15s 19ms/step - loss: 0.6930 - accuracy: 0.5091\n",
      "Epoch 6/10\n",
      "782/782 [==============================] - 14s 19ms/step - loss: 0.6929 - accuracy: 0.5094\n",
      "Epoch 7/10\n",
      "782/782 [==============================] - 15s 19ms/step - loss: 0.5981 - accuracy: 0.6447\n",
      "Epoch 8/10\n",
      "782/782 [==============================] - 14s 18ms/step - loss: 0.1518 - accuracy: 0.9940\n",
      "Epoch 9/10\n",
      "782/782 [==============================] - 14s 18ms/step - loss: 0.0852 - accuracy: 0.9969\n",
      "Epoch 10/10\n",
      "782/782 [==============================] - 15s 19ms/step - loss: 0.0541 - accuracy: 0.9988\n",
      "Model: \"sequential\"\n",
      "_________________________________________________________________\n",
      "Layer (type)                 Output Shape              Param #   \n",
      "=================================================================\n",
      "lstm (LSTM)                  (None, 50, 1)             16        \n",
      "_________________________________________________________________\n",
      "dense (Dense)                (None, 50, 2)             4         \n",
      "=================================================================\n",
      "Total params: 20\n",
      "Trainable params: 20\n",
      "Non-trainable params: 0\n",
      "_________________________________________________________________\n"
     ]
    }
   ],
   "source": [
    "model.compile(loss='binary_crossentropy', optimizer='adam', metrics=['accuracy'])\n",
    "model.fit(training, target, epochs=10, batch_size=128)\n",
    "model.summary()"
   ]
  },
  {
   "cell_type": "code",
   "execution_count": 7,
   "metadata": {
    "colab": {
     "base_uri": "https://localhost:8080/"
    },
    "id": "6Bd7GEeRGAd5",
    "outputId": "8e2b7d9b-a66d-4eb0-9c5c-3845b2a2d8d0"
   },
   "outputs": [
    {
     "name": "stdout",
     "output_type": "stream",
     "text": [
      "randomly selected sequence: [1 0 0 0 1 0 1 1 0 1 1 0 0 1 1 1 0 0 0 1 1 1 1 1 1 1 1 1 0 1 0 1 0 1 1 1 1\n",
      " 0 0 1 1 1 0 0 1 0 0 0 1 1]\n",
      "prediction: 0\n",
      "confidence: 99.80%\n",
      "actual: 0\n"
     ]
    }
   ],
   "source": [
    "predictions = model.predict(training)\n",
    "i = random.randint(0, COUNT)\n",
    "chance = predictions[i,-1,0]\n",
    "print('randomly selected sequence:', training[i,:,0])\n",
    "print('prediction:', int(chance > 0.5))\n",
    "print('confidence: {:0.2f}%'.format((chance if chance > 0.5 else 1 - chance) * 100))\n",
    "print('actual:', np.sum(training[i,:,0]) % 2)"
   ]
  },
  {
   "cell_type": "code",
   "execution_count": 10,
   "metadata": {
    "id": "TX7H5fwvGmdh"
   },
   "outputs": [],
   "source": [
    "#Part 2\n",
    "\n",
    "SEQ_LEN2 = 50\n",
    "COUNT2 = 200000"
   ]
  },
  {
   "cell_type": "code",
   "execution_count": 11,
   "metadata": {
    "id": "Yvu800-KSND7"
   },
   "outputs": [],
   "source": [
    "bin_pair2 = lambda x: [x, not(x)]\n",
    "training2 = np.array([[bin_pair2(random.choice([0, 1])) for _ in range(SEQ_LEN2)] for _ in range(COUNT2)])\n",
    "target2 = np.array([[bin_pair2(x) for x in np.cumsum(example[:,0]) % 2] for example in training2])"
   ]
  },
  {
   "cell_type": "code",
   "execution_count": 13,
   "metadata": {
    "colab": {
     "base_uri": "https://localhost:8080/"
    },
    "id": "Ujq6K-J2SoY0",
    "outputId": "d4e34d29-8bb6-43f1-9c6c-fa8b55505537"
   },
   "outputs": [
    {
     "name": "stdout",
     "output_type": "stream",
     "text": [
      "shape check: (200000, 50, 2) = (200000, 50, 2)\n"
     ]
    }
   ],
   "source": [
    "print('shape check:', training2.shape, '=', target2.shape)"
   ]
  },
  {
   "cell_type": "code",
   "execution_count": 14,
   "metadata": {
    "id": "AVN3nwyPS5nf"
   },
   "outputs": [],
   "source": [
    "model2 = Sequential()\n",
    "model2.add(Input(shape=(SEQ_LEN2, 2), dtype='float32'))\n",
    "model2.add(LSTM(1, return_sequences=True))\n",
    "model2.add(Dense(2, activation='softmax'))"
   ]
  },
  {
   "cell_type": "code",
   "execution_count": 15,
   "metadata": {
    "colab": {
     "base_uri": "https://localhost:8080/"
    },
    "id": "8SSmForyTI2o",
    "outputId": "c2969bb8-20e6-4114-9a3e-f35dbe8fb358"
   },
   "outputs": [
    {
     "name": "stdout",
     "output_type": "stream",
     "text": [
      "Epoch 1/10\n",
      "1563/1563 [==============================] - 31s 19ms/step - loss: 0.6934 - accuracy: 0.5104\n",
      "Epoch 2/10\n",
      "1563/1563 [==============================] - 29s 19ms/step - loss: 0.6929 - accuracy: 0.5101\n",
      "Epoch 3/10\n",
      "1563/1563 [==============================] - 28s 18ms/step - loss: 0.6304 - accuracy: 0.6039\n",
      "Epoch 4/10\n",
      "1563/1563 [==============================] - 29s 18ms/step - loss: 0.1680 - accuracy: 1.0000\n",
      "Epoch 5/10\n",
      "1563/1563 [==============================] - 29s 18ms/step - loss: 0.0842 - accuracy: 1.0000\n",
      "Epoch 6/10\n",
      "1563/1563 [==============================] - 29s 18ms/step - loss: 0.0490 - accuracy: 1.0000\n",
      "Epoch 7/10\n",
      "1563/1563 [==============================] - 29s 18ms/step - loss: 0.0300 - accuracy: 1.0000\n",
      "Epoch 8/10\n",
      "1563/1563 [==============================] - 29s 18ms/step - loss: 0.0188 - accuracy: 1.0000\n",
      "Epoch 9/10\n",
      "1563/1563 [==============================] - 29s 19ms/step - loss: 0.0120 - accuracy: 1.0000\n",
      "Epoch 10/10\n",
      "1563/1563 [==============================] - 29s 19ms/step - loss: 0.0077 - accuracy: 1.0000\n",
      "Model: \"sequential_1\"\n",
      "_________________________________________________________________\n",
      "Layer (type)                 Output Shape              Param #   \n",
      "=================================================================\n",
      "lstm_1 (LSTM)                (None, 50, 1)             16        \n",
      "_________________________________________________________________\n",
      "dense_1 (Dense)              (None, 50, 2)             4         \n",
      "=================================================================\n",
      "Total params: 20\n",
      "Trainable params: 20\n",
      "Non-trainable params: 0\n",
      "_________________________________________________________________\n"
     ]
    }
   ],
   "source": [
    "model2.compile(loss='binary_crossentropy', optimizer='adam', metrics=['accuracy'])\n",
    "model2.fit(training2, target2, epochs=10, batch_size=128)\n",
    "model2.summary()"
   ]
  },
  {
   "cell_type": "code",
   "execution_count": 16,
   "metadata": {
    "colab": {
     "base_uri": "https://localhost:8080/"
    },
    "id": "3OGcJ2XBTNVS",
    "outputId": "9aaa9ff6-b80a-4991-e4b6-85a48a58be26"
   },
   "outputs": [
    {
     "name": "stdout",
     "output_type": "stream",
     "text": [
      "randomly selected sequence: [0 1 0 0 1 1 0 0 0 0 0 1 0 1 0 0 0 1 1 1 1 1 1 0 0 1 1 1 0 0 1 1 0 1 0 1 0\n",
      " 0 1 1 0 0 0 0 1 1 1 1 0 0]\n",
      "prediction: 0\n",
      "confidence: 100.00%\n",
      "actual: 0\n"
     ]
    }
   ],
   "source": [
    "predictions2 = model2.predict(training2)\n",
    "i = random.randint(0, COUNT2)\n",
    "chance2 = predictions2[i,-1,0]\n",
    "print('randomly selected sequence:', training2[i,:,0])\n",
    "print('prediction:', int(chance2 > 0.5))\n",
    "print('confidence: {:0.2f}%'.format((chance2 if chance2 > 0.5 else 1 - chance2) * 100))\n",
    "print('actual:', np.sum(training2[i,:,0]) % 2)"
   ]
  },
  {
   "cell_type": "code",
   "execution_count": null,
   "metadata": {
    "id": "gCgiCmqlUgx-"
   },
   "outputs": [],
   "source": []
  }
 ],
 "metadata": {
  "colab": {
   "collapsed_sections": [],
   "name": "LSTM XOR.ipynb",
   "provenance": []
  },
  "kernelspec": {
   "display_name": "Python 3",
   "language": "python",
   "name": "python3"
  },
  "language_info": {
   "codemirror_mode": {
    "name": "ipython",
    "version": 3
   },
   "file_extension": ".py",
   "mimetype": "text/x-python",
   "name": "python",
   "nbconvert_exporter": "python",
   "pygments_lexer": "ipython3",
   "version": "3.8.5"
  }
 },
 "nbformat": 4,
 "nbformat_minor": 1
}
